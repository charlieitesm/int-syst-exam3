{
  "cells": [
    {
      "cell_type": "markdown",
      "metadata": {
        "collapsed": true,
        "pycharm": {
          "name": "#%% md\n"
        }
      },
      "source": "# Multimodels exercise\n"
    },
    {
      "cell_type": "code",
      "execution_count": 1,
      "outputs": [],
      "source": "import pandas as pd\n\nfrom sklearn.neighbors import KNeighborsClassifier\nfrom sklearn.tree import DecisionTreeClassifier\nfrom sklearn.linear_model import LogisticRegression\nfrom sklearn.svm import SVC\nfrom sklearn.naive_bayes import GaussianNB\n\nfrom sklearn.model_selection import train_test_split\nfrom sklearn.metrics import confusion_matrix, accuracy_score\n",
      "metadata": {
        "pycharm": {
          "metadata": false,
          "name": "#%%\n",
          "is_executing": false
        }
      }
    },
    {
      "cell_type": "code",
      "execution_count": 2,
      "outputs": [],
      "source": "WINE_DATA_PATH \u003d \"../Jupyter/wine.csv\"\nWINE_TEST_DATA_PATH \u003d \"../Jupyter/wineTestModel.csv\"\n",
      "metadata": {
        "pycharm": {
          "metadata": false,
          "name": "#%%\n",
          "is_executing": false
        }
      }
    },
    {
      "cell_type": "code",
      "execution_count": 3,
      "outputs": [],
      "source": "# Configuration variables\nN_NEIGHBORS \u003d 3\n",
      "metadata": {
        "pycharm": {
          "metadata": false,
          "name": "#%%\n",
          "is_executing": false
        }
      }
    },
    {
      "cell_type": "code",
      "execution_count": 16,
      "outputs": [],
      "source": "knn \u003d \"KNN\"\ndecision_tree \u003d \"DecisionTree\"\nlogistic_regression \u003d \"LogisticRegression\"\nsvm \u003d \"SVM\"\nbayes \u003d \"Bayes\"\n\navailable_models \u003d {\n    knn: KNeighborsClassifier(n_neighbors\u003dN_NEIGHBORS),\n    decision_tree: DecisionTreeClassifier(),\n    logistic_regression: LogisticRegression(),\n    svm: SVC(),\n    bayes: GaussianNB()\n}\n\npredictions \u003d {}\n\naccuracy_dict \u003d {}\n",
      "metadata": {
        "pycharm": {
          "metadata": false,
          "name": "#%%\n",
          "is_executing": false
        }
      }
    },
    {
      "cell_type": "code",
      "execution_count": 7,
      "outputs": [
        {
          "name": "stdout",
          "text": [
            " Confusion Matrix for: KNN, Accuracy: 0.5581395348837209\n[[11  1  1]\n [ 2 11  5]\n [ 0 10  2]]\n Confusion Matrix for: DecisionTree, Accuracy: 0.8837209302325582\n[[12  1  0]\n [ 2 15  1]\n [ 1  0 11]]\n Confusion Matrix for: LogisticRegression, Accuracy: 0.9767441860465116\n[[13  0  0]\n [ 0 17  1]\n [ 0  0 12]]\n Confusion Matrix for: SVM, Accuracy: 0.46511627906976744\n[[ 1 12  0]\n [ 0 18  0]\n [ 0 11  1]]\n Confusion Matrix for: Bayes, Accuracy: 0.9302325581395349\n[[11  2  0]\n [ 1 17  0]\n [ 0  0 12]]\n"
          ],
          "output_type": "stream"
        },
        {
          "name": "stderr",
          "text": [
            "/Users/carlosh/Desktop/CHARLIE/ITESM/IntelligentSystems/CODE/int-syst-exam3/int-syst-exam3-venv/lib/python3.7/site-packages/sklearn/linear_model/logistic.py:432: FutureWarning: Default solver will be changed to \u0027lbfgs\u0027 in 0.22. Specify a solver to silence this warning.\n  FutureWarning)\n/Users/carlosh/Desktop/CHARLIE/ITESM/IntelligentSystems/CODE/int-syst-exam3/int-syst-exam3-venv/lib/python3.7/site-packages/sklearn/linear_model/logistic.py:469: FutureWarning: Default multi_class will be changed to \u0027auto\u0027 in 0.22. Specify the multi_class option to silence this warning.\n  \"this warning.\", FutureWarning)\n/Users/carlosh/Desktop/CHARLIE/ITESM/IntelligentSystems/CODE/int-syst-exam3/int-syst-exam3-venv/lib/python3.7/site-packages/sklearn/svm/base.py:193: FutureWarning: The default value of gamma will change from \u0027auto\u0027 to \u0027scale\u0027 in version 0.22 to account better for unscaled features. Set gamma explicitly to \u0027auto\u0027 or \u0027scale\u0027 to avoid this warning.\n  \"avoid this warning.\", FutureWarning)\n"
          ],
          "output_type": "stream"
        }
      ],
      "source": "data \u003d pd.read_csv(WINE_DATA_PATH, skipinitialspace\u003dTrue, skip_blank_lines\u003dTrue)\n# test_data \u003d pd.read_csv(WINE_TEST_DATA_PATH, skipinitialspace\u003dTrue, skip_blank_lines\u003dTrue)\n\ntraining_labels \u003d data[\"cultivar\"]\n\ndata.drop(\"cultivar\", inplace\u003dTrue, axis\u003d1)\n\nX_train, X_test, y_train, y_test \u003d train_test_split(\n    data, training_labels, random_state\u003d1988\n)\n\nfor model_name in available_models.keys():\n    model \u003d available_models.get(model_name)\n    \n    model.fit(X_train, y_train)\n    \n    prediction \u003d model.predict(X_test)\n    \n    predictions[model_name] \u003d prediction\n    acc \u003d accuracy_score(y_test, prediction)\n    \n    accuracy_dict[model_name] \u003d acc\n    \n    print(f\" Confusion Matrix for: {model_name}, Accuracy: {acc}\")\n    print(confusion_matrix(y_test, prediction))\n",
      "metadata": {
        "pycharm": {
          "metadata": false,
          "name": "#%%\n",
          "is_executing": false
        }
      }
    },
    {
      "cell_type": "code",
      "execution_count": 17,
      "outputs": [
        {
          "name": "stdout",
          "text": [
            " Prediction using: KNN\n[1 1 1 2 1 3]\n Prediction using: DecisionTree\n[1 1 2 2 3 3]\n Prediction using: LogisticRegression\n[1 1 1 2 3 3]\n Prediction using: SVM\n[2 2 2 2 2 2]\n Prediction using: Bayes\n[1 1 2 2 3 3]\n"
          ],
          "output_type": "stream"
        },
        {
          "name": "stderr",
          "text": [
            "/Users/carlosh/Desktop/CHARLIE/ITESM/IntelligentSystems/CODE/int-syst-exam3/int-syst-exam3-venv/lib/python3.7/site-packages/sklearn/linear_model/logistic.py:432: FutureWarning: Default solver will be changed to \u0027lbfgs\u0027 in 0.22. Specify a solver to silence this warning.\n  FutureWarning)\n/Users/carlosh/Desktop/CHARLIE/ITESM/IntelligentSystems/CODE/int-syst-exam3/int-syst-exam3-venv/lib/python3.7/site-packages/sklearn/linear_model/logistic.py:469: FutureWarning: Default multi_class will be changed to \u0027auto\u0027 in 0.22. Specify the multi_class option to silence this warning.\n  \"this warning.\", FutureWarning)\n/Users/carlosh/Desktop/CHARLIE/ITESM/IntelligentSystems/CODE/int-syst-exam3/int-syst-exam3-venv/lib/python3.7/site-packages/sklearn/svm/base.py:193: FutureWarning: The default value of gamma will change from \u0027auto\u0027 to \u0027scale\u0027 in version 0.22 to account better for unscaled features. Set gamma explicitly to \u0027auto\u0027 or \u0027scale\u0027 to avoid this warning.\n  \"avoid this warning.\", FutureWarning)\n"
          ],
          "output_type": "stream"
        }
      ],
      "source": "data \u003d pd.read_csv(WINE_DATA_PATH, skipinitialspace\u003dTrue, skip_blank_lines\u003dTrue)\ntest_data \u003d pd.read_csv(WINE_TEST_DATA_PATH, skipinitialspace\u003dTrue, skip_blank_lines\u003dTrue)\n\ntraining_labels \u003d data[\"cultivar\"]\n\ndata.drop(\"cultivar\", inplace\u003dTrue, axis\u003d1)\ntest_data.drop(\"cultivar\", inplace\u003dTrue, axis\u003d1)\n\nfor model_name in available_models.keys():\n    model \u003d available_models.get(model_name)\n    \n    model.fit(data, training_labels)\n    \n    prediction \u003d model.predict(test_data)\n    \n    print(f\" Prediction using: {model_name}\")\n    print(f\"{prediction}\")\n\n\n",
      "metadata": {
        "pycharm": {
          "metadata": false,
          "name": "#%%\n",
          "is_executing": false
        }
      }
    }
  ],
  "metadata": {
    "language_info": {
      "codemirror_mode": {
        "name": "ipython",
        "version": 2
      },
      "file_extension": ".py",
      "mimetype": "text/x-python",
      "name": "python",
      "nbconvert_exporter": "python",
      "pygments_lexer": "ipython2",
      "version": "2.7.6"
    },
    "kernelspec": {
      "name": "python3",
      "language": "python",
      "display_name": "Python 3"
    }
  },
  "nbformat": 4,
  "nbformat_minor": 0
}